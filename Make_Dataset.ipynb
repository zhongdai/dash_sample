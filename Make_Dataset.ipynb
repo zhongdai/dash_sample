{
 "cells": [
  {
   "cell_type": "code",
   "execution_count": 13,
   "metadata": {
    "collapsed": true
   },
   "outputs": [],
   "source": [
    "import pandas as pd\n",
    "from itertools import permutations\n",
    "from random import randint, shuffle"
   ]
  },
  {
   "cell_type": "code",
   "execution_count": 20,
   "metadata": {
    "collapsed": false
   },
   "outputs": [],
   "source": [
    "attrs = dict()\n",
    "for i in range(1,6):\n",
    "    tmp_list = list()\n",
    "    for c in range(100,107):\n",
    "        tmp_list.append('Attr{}_{}'.format(i, chr(c).upper()))\n",
    "    attrs['Attr{}'.format(i)] = tmp_list\n",
    "groups = ['Group1','Group2','Group3']"
   ]
  },
  {
   "cell_type": "code",
   "execution_count": 21,
   "metadata": {
    "collapsed": false
   },
   "outputs": [],
   "source": [
    "doube_array = list()\n",
    "for i in range(10000):\n",
    "    tmp = list()\n",
    "    idx1 = randint(0,2)\n",
    "    idx2 = randint(0,6)\n",
    "    tmp.append(groups[idx1])\n",
    "    for attr in attrs:\n",
    "        tmp.append(attrs[attr][idx2])\n",
    "    \n",
    "    doube_array.append(tmp)"
   ]
  },
  {
   "cell_type": "code",
   "execution_count": 22,
   "metadata": {
    "collapsed": false
   },
   "outputs": [
    {
     "data": {
      "text/plain": [
       "10000"
      ]
     },
     "execution_count": 22,
     "metadata": {},
     "output_type": "execute_result"
    }
   ],
   "source": [
    "len(doube_array)"
   ]
  },
  {
   "cell_type": "code",
   "execution_count": 24,
   "metadata": {
    "collapsed": false
   },
   "outputs": [],
   "source": [
    "df = pd.DataFrame(doube_array, columns=['Group'] + list(attrs.keys()))"
   ]
  },
  {
   "cell_type": "code",
   "execution_count": 25,
   "metadata": {
    "collapsed": false
   },
   "outputs": [
    {
     "data": {
      "text/html": [
       "<div>\n",
       "<style scoped>\n",
       "    .dataframe tbody tr th:only-of-type {\n",
       "        vertical-align: middle;\n",
       "    }\n",
       "\n",
       "    .dataframe tbody tr th {\n",
       "        vertical-align: top;\n",
       "    }\n",
       "\n",
       "    .dataframe thead th {\n",
       "        text-align: right;\n",
       "    }\n",
       "</style>\n",
       "<table border=\"1\" class=\"dataframe\">\n",
       "  <thead>\n",
       "    <tr style=\"text-align: right;\">\n",
       "      <th></th>\n",
       "      <th>Group</th>\n",
       "      <th>Attr1</th>\n",
       "      <th>Attr2</th>\n",
       "      <th>Attr3</th>\n",
       "      <th>Attr4</th>\n",
       "      <th>Attr5</th>\n",
       "    </tr>\n",
       "  </thead>\n",
       "  <tbody>\n",
       "    <tr>\n",
       "      <th>0</th>\n",
       "      <td>Group3</td>\n",
       "      <td>Attr1_J</td>\n",
       "      <td>Attr2_J</td>\n",
       "      <td>Attr3_J</td>\n",
       "      <td>Attr4_J</td>\n",
       "      <td>Attr5_J</td>\n",
       "    </tr>\n",
       "    <tr>\n",
       "      <th>1</th>\n",
       "      <td>Group2</td>\n",
       "      <td>Attr1_J</td>\n",
       "      <td>Attr2_J</td>\n",
       "      <td>Attr3_J</td>\n",
       "      <td>Attr4_J</td>\n",
       "      <td>Attr5_J</td>\n",
       "    </tr>\n",
       "    <tr>\n",
       "      <th>2</th>\n",
       "      <td>Group2</td>\n",
       "      <td>Attr1_J</td>\n",
       "      <td>Attr2_J</td>\n",
       "      <td>Attr3_J</td>\n",
       "      <td>Attr4_J</td>\n",
       "      <td>Attr5_J</td>\n",
       "    </tr>\n",
       "    <tr>\n",
       "      <th>3</th>\n",
       "      <td>Group2</td>\n",
       "      <td>Attr1_E</td>\n",
       "      <td>Attr2_E</td>\n",
       "      <td>Attr3_E</td>\n",
       "      <td>Attr4_E</td>\n",
       "      <td>Attr5_E</td>\n",
       "    </tr>\n",
       "    <tr>\n",
       "      <th>4</th>\n",
       "      <td>Group1</td>\n",
       "      <td>Attr1_J</td>\n",
       "      <td>Attr2_J</td>\n",
       "      <td>Attr3_J</td>\n",
       "      <td>Attr4_J</td>\n",
       "      <td>Attr5_J</td>\n",
       "    </tr>\n",
       "  </tbody>\n",
       "</table>\n",
       "</div>"
      ],
      "text/plain": [
       "    Group    Attr1    Attr2    Attr3    Attr4    Attr5\n",
       "0  Group3  Attr1_J  Attr2_J  Attr3_J  Attr4_J  Attr5_J\n",
       "1  Group2  Attr1_J  Attr2_J  Attr3_J  Attr4_J  Attr5_J\n",
       "2  Group2  Attr1_J  Attr2_J  Attr3_J  Attr4_J  Attr5_J\n",
       "3  Group2  Attr1_E  Attr2_E  Attr3_E  Attr4_E  Attr5_E\n",
       "4  Group1  Attr1_J  Attr2_J  Attr3_J  Attr4_J  Attr5_J"
      ]
     },
     "execution_count": 25,
     "metadata": {},
     "output_type": "execute_result"
    }
   ],
   "source": [
    "df.head()"
   ]
  },
  {
   "cell_type": "code",
   "execution_count": 34,
   "metadata": {
    "collapsed": false
   },
   "outputs": [],
   "source": [
    "summary = df.groupby(df.columns.tolist()).size()"
   ]
  },
  {
   "cell_type": "code",
   "execution_count": 47,
   "metadata": {
    "collapsed": false
   },
   "outputs": [],
   "source": [
    "summary = df.groupby(df.columns.tolist()).size()\n",
    "columns = df.columns.tolist() + ['Count']\n",
    "summary_df = summary.reset_index()\n",
    "summary_df.columns = columns"
   ]
  },
  {
   "cell_type": "code",
   "execution_count": 48,
   "metadata": {
    "collapsed": false
   },
   "outputs": [],
   "source": [
    "summary_df.columns = columns"
   ]
  },
  {
   "cell_type": "code",
   "execution_count": 49,
   "metadata": {
    "collapsed": false
   },
   "outputs": [
    {
     "data": {
      "text/html": [
       "<div>\n",
       "<style scoped>\n",
       "    .dataframe tbody tr th:only-of-type {\n",
       "        vertical-align: middle;\n",
       "    }\n",
       "\n",
       "    .dataframe tbody tr th {\n",
       "        vertical-align: top;\n",
       "    }\n",
       "\n",
       "    .dataframe thead th {\n",
       "        text-align: right;\n",
       "    }\n",
       "</style>\n",
       "<table border=\"1\" class=\"dataframe\">\n",
       "  <thead>\n",
       "    <tr style=\"text-align: right;\">\n",
       "      <th></th>\n",
       "      <th>Group</th>\n",
       "      <th>Attr1</th>\n",
       "      <th>Attr2</th>\n",
       "      <th>Attr3</th>\n",
       "      <th>Attr4</th>\n",
       "      <th>Attr5</th>\n",
       "      <th>Count</th>\n",
       "    </tr>\n",
       "  </thead>\n",
       "  <tbody>\n",
       "    <tr>\n",
       "      <th>0</th>\n",
       "      <td>Group1</td>\n",
       "      <td>Attr1_D</td>\n",
       "      <td>Attr2_D</td>\n",
       "      <td>Attr3_D</td>\n",
       "      <td>Attr4_D</td>\n",
       "      <td>Attr5_D</td>\n",
       "      <td>483</td>\n",
       "    </tr>\n",
       "    <tr>\n",
       "      <th>1</th>\n",
       "      <td>Group1</td>\n",
       "      <td>Attr1_E</td>\n",
       "      <td>Attr2_E</td>\n",
       "      <td>Attr3_E</td>\n",
       "      <td>Attr4_E</td>\n",
       "      <td>Attr5_E</td>\n",
       "      <td>481</td>\n",
       "    </tr>\n",
       "    <tr>\n",
       "      <th>2</th>\n",
       "      <td>Group1</td>\n",
       "      <td>Attr1_F</td>\n",
       "      <td>Attr2_F</td>\n",
       "      <td>Attr3_F</td>\n",
       "      <td>Attr4_F</td>\n",
       "      <td>Attr5_F</td>\n",
       "      <td>469</td>\n",
       "    </tr>\n",
       "    <tr>\n",
       "      <th>3</th>\n",
       "      <td>Group1</td>\n",
       "      <td>Attr1_G</td>\n",
       "      <td>Attr2_G</td>\n",
       "      <td>Attr3_G</td>\n",
       "      <td>Attr4_G</td>\n",
       "      <td>Attr5_G</td>\n",
       "      <td>489</td>\n",
       "    </tr>\n",
       "    <tr>\n",
       "      <th>4</th>\n",
       "      <td>Group1</td>\n",
       "      <td>Attr1_H</td>\n",
       "      <td>Attr2_H</td>\n",
       "      <td>Attr3_H</td>\n",
       "      <td>Attr4_H</td>\n",
       "      <td>Attr5_H</td>\n",
       "      <td>443</td>\n",
       "    </tr>\n",
       "    <tr>\n",
       "      <th>5</th>\n",
       "      <td>Group1</td>\n",
       "      <td>Attr1_I</td>\n",
       "      <td>Attr2_I</td>\n",
       "      <td>Attr3_I</td>\n",
       "      <td>Attr4_I</td>\n",
       "      <td>Attr5_I</td>\n",
       "      <td>486</td>\n",
       "    </tr>\n",
       "    <tr>\n",
       "      <th>6</th>\n",
       "      <td>Group1</td>\n",
       "      <td>Attr1_J</td>\n",
       "      <td>Attr2_J</td>\n",
       "      <td>Attr3_J</td>\n",
       "      <td>Attr4_J</td>\n",
       "      <td>Attr5_J</td>\n",
       "      <td>465</td>\n",
       "    </tr>\n",
       "    <tr>\n",
       "      <th>7</th>\n",
       "      <td>Group2</td>\n",
       "      <td>Attr1_D</td>\n",
       "      <td>Attr2_D</td>\n",
       "      <td>Attr3_D</td>\n",
       "      <td>Attr4_D</td>\n",
       "      <td>Attr5_D</td>\n",
       "      <td>497</td>\n",
       "    </tr>\n",
       "    <tr>\n",
       "      <th>8</th>\n",
       "      <td>Group2</td>\n",
       "      <td>Attr1_E</td>\n",
       "      <td>Attr2_E</td>\n",
       "      <td>Attr3_E</td>\n",
       "      <td>Attr4_E</td>\n",
       "      <td>Attr5_E</td>\n",
       "      <td>477</td>\n",
       "    </tr>\n",
       "    <tr>\n",
       "      <th>9</th>\n",
       "      <td>Group2</td>\n",
       "      <td>Attr1_F</td>\n",
       "      <td>Attr2_F</td>\n",
       "      <td>Attr3_F</td>\n",
       "      <td>Attr4_F</td>\n",
       "      <td>Attr5_F</td>\n",
       "      <td>474</td>\n",
       "    </tr>\n",
       "    <tr>\n",
       "      <th>10</th>\n",
       "      <td>Group2</td>\n",
       "      <td>Attr1_G</td>\n",
       "      <td>Attr2_G</td>\n",
       "      <td>Attr3_G</td>\n",
       "      <td>Attr4_G</td>\n",
       "      <td>Attr5_G</td>\n",
       "      <td>473</td>\n",
       "    </tr>\n",
       "    <tr>\n",
       "      <th>11</th>\n",
       "      <td>Group2</td>\n",
       "      <td>Attr1_H</td>\n",
       "      <td>Attr2_H</td>\n",
       "      <td>Attr3_H</td>\n",
       "      <td>Attr4_H</td>\n",
       "      <td>Attr5_H</td>\n",
       "      <td>469</td>\n",
       "    </tr>\n",
       "    <tr>\n",
       "      <th>12</th>\n",
       "      <td>Group2</td>\n",
       "      <td>Attr1_I</td>\n",
       "      <td>Attr2_I</td>\n",
       "      <td>Attr3_I</td>\n",
       "      <td>Attr4_I</td>\n",
       "      <td>Attr5_I</td>\n",
       "      <td>483</td>\n",
       "    </tr>\n",
       "    <tr>\n",
       "      <th>13</th>\n",
       "      <td>Group2</td>\n",
       "      <td>Attr1_J</td>\n",
       "      <td>Attr2_J</td>\n",
       "      <td>Attr3_J</td>\n",
       "      <td>Attr4_J</td>\n",
       "      <td>Attr5_J</td>\n",
       "      <td>488</td>\n",
       "    </tr>\n",
       "    <tr>\n",
       "      <th>14</th>\n",
       "      <td>Group3</td>\n",
       "      <td>Attr1_D</td>\n",
       "      <td>Attr2_D</td>\n",
       "      <td>Attr3_D</td>\n",
       "      <td>Attr4_D</td>\n",
       "      <td>Attr5_D</td>\n",
       "      <td>484</td>\n",
       "    </tr>\n",
       "    <tr>\n",
       "      <th>15</th>\n",
       "      <td>Group3</td>\n",
       "      <td>Attr1_E</td>\n",
       "      <td>Attr2_E</td>\n",
       "      <td>Attr3_E</td>\n",
       "      <td>Attr4_E</td>\n",
       "      <td>Attr5_E</td>\n",
       "      <td>443</td>\n",
       "    </tr>\n",
       "    <tr>\n",
       "      <th>16</th>\n",
       "      <td>Group3</td>\n",
       "      <td>Attr1_F</td>\n",
       "      <td>Attr2_F</td>\n",
       "      <td>Attr3_F</td>\n",
       "      <td>Attr4_F</td>\n",
       "      <td>Attr5_F</td>\n",
       "      <td>466</td>\n",
       "    </tr>\n",
       "    <tr>\n",
       "      <th>17</th>\n",
       "      <td>Group3</td>\n",
       "      <td>Attr1_G</td>\n",
       "      <td>Attr2_G</td>\n",
       "      <td>Attr3_G</td>\n",
       "      <td>Attr4_G</td>\n",
       "      <td>Attr5_G</td>\n",
       "      <td>503</td>\n",
       "    </tr>\n",
       "    <tr>\n",
       "      <th>18</th>\n",
       "      <td>Group3</td>\n",
       "      <td>Attr1_H</td>\n",
       "      <td>Attr2_H</td>\n",
       "      <td>Attr3_H</td>\n",
       "      <td>Attr4_H</td>\n",
       "      <td>Attr5_H</td>\n",
       "      <td>490</td>\n",
       "    </tr>\n",
       "    <tr>\n",
       "      <th>19</th>\n",
       "      <td>Group3</td>\n",
       "      <td>Attr1_I</td>\n",
       "      <td>Attr2_I</td>\n",
       "      <td>Attr3_I</td>\n",
       "      <td>Attr4_I</td>\n",
       "      <td>Attr5_I</td>\n",
       "      <td>445</td>\n",
       "    </tr>\n",
       "    <tr>\n",
       "      <th>20</th>\n",
       "      <td>Group3</td>\n",
       "      <td>Attr1_J</td>\n",
       "      <td>Attr2_J</td>\n",
       "      <td>Attr3_J</td>\n",
       "      <td>Attr4_J</td>\n",
       "      <td>Attr5_J</td>\n",
       "      <td>492</td>\n",
       "    </tr>\n",
       "  </tbody>\n",
       "</table>\n",
       "</div>"
      ],
      "text/plain": [
       "     Group    Attr1    Attr2    Attr3    Attr4    Attr5  Count\n",
       "0   Group1  Attr1_D  Attr2_D  Attr3_D  Attr4_D  Attr5_D    483\n",
       "1   Group1  Attr1_E  Attr2_E  Attr3_E  Attr4_E  Attr5_E    481\n",
       "2   Group1  Attr1_F  Attr2_F  Attr3_F  Attr4_F  Attr5_F    469\n",
       "3   Group1  Attr1_G  Attr2_G  Attr3_G  Attr4_G  Attr5_G    489\n",
       "4   Group1  Attr1_H  Attr2_H  Attr3_H  Attr4_H  Attr5_H    443\n",
       "5   Group1  Attr1_I  Attr2_I  Attr3_I  Attr4_I  Attr5_I    486\n",
       "6   Group1  Attr1_J  Attr2_J  Attr3_J  Attr4_J  Attr5_J    465\n",
       "7   Group2  Attr1_D  Attr2_D  Attr3_D  Attr4_D  Attr5_D    497\n",
       "8   Group2  Attr1_E  Attr2_E  Attr3_E  Attr4_E  Attr5_E    477\n",
       "9   Group2  Attr1_F  Attr2_F  Attr3_F  Attr4_F  Attr5_F    474\n",
       "10  Group2  Attr1_G  Attr2_G  Attr3_G  Attr4_G  Attr5_G    473\n",
       "11  Group2  Attr1_H  Attr2_H  Attr3_H  Attr4_H  Attr5_H    469\n",
       "12  Group2  Attr1_I  Attr2_I  Attr3_I  Attr4_I  Attr5_I    483\n",
       "13  Group2  Attr1_J  Attr2_J  Attr3_J  Attr4_J  Attr5_J    488\n",
       "14  Group3  Attr1_D  Attr2_D  Attr3_D  Attr4_D  Attr5_D    484\n",
       "15  Group3  Attr1_E  Attr2_E  Attr3_E  Attr4_E  Attr5_E    443\n",
       "16  Group3  Attr1_F  Attr2_F  Attr3_F  Attr4_F  Attr5_F    466\n",
       "17  Group3  Attr1_G  Attr2_G  Attr3_G  Attr4_G  Attr5_G    503\n",
       "18  Group3  Attr1_H  Attr2_H  Attr3_H  Attr4_H  Attr5_H    490\n",
       "19  Group3  Attr1_I  Attr2_I  Attr3_I  Attr4_I  Attr5_I    445\n",
       "20  Group3  Attr1_J  Attr2_J  Attr3_J  Attr4_J  Attr5_J    492"
      ]
     },
     "execution_count": 49,
     "metadata": {},
     "output_type": "execute_result"
    }
   ],
   "source": [
    "summary_df"
   ]
  },
  {
   "cell_type": "code",
   "execution_count": 52,
   "metadata": {
    "collapsed": false
   },
   "outputs": [],
   "source": [
    "x = summary_df.groupby('Attr1').sum()['Count']"
   ]
  },
  {
   "cell_type": "code",
   "execution_count": 61,
   "metadata": {
    "collapsed": false
   },
   "outputs": [
    {
     "data": {
      "text/plain": [
       "Index(['Attr1_D', 'Attr1_E', 'Attr1_F', 'Attr1_G', 'Attr1_H', 'Attr1_I',\n",
       "       'Attr1_J'],\n",
       "      dtype='object', name='Attr1')"
      ]
     },
     "execution_count": 61,
     "metadata": {},
     "output_type": "execute_result"
    }
   ],
   "source": [
    "x.index"
   ]
  },
  {
   "cell_type": "code",
   "execution_count": 65,
   "metadata": {
    "collapsed": false
   },
   "outputs": [
    {
     "data": {
      "text/plain": [
       "[1464, 1401, 1409, 1465, 1402, 1414, 1445]"
      ]
     },
     "execution_count": 65,
     "metadata": {},
     "output_type": "execute_result"
    }
   ],
   "source": [
    "x.values.tolist()"
   ]
  },
  {
   "cell_type": "code",
   "execution_count": 67,
   "metadata": {
    "collapsed": false
   },
   "outputs": [
    {
     "data": {
      "text/plain": [
       "10000"
      ]
     },
     "execution_count": 67,
     "metadata": {},
     "output_type": "execute_result"
    }
   ],
   "source": [
    "summary_df.sum()['Count']"
   ]
  },
  {
   "cell_type": "code",
   "execution_count": null,
   "metadata": {
    "collapsed": true
   },
   "outputs": [],
   "source": []
  }
 ],
 "metadata": {
  "kernelspec": {
   "display_name": "Python 3.6 Data",
   "language": "python",
   "name": "py36data"
  },
  "language_info": {
   "codemirror_mode": {
    "name": "ipython",
    "version": 3
   },
   "file_extension": ".py",
   "mimetype": "text/x-python",
   "name": "python",
   "nbconvert_exporter": "python",
   "pygments_lexer": "ipython3",
   "version": "3.6.0"
  }
 },
 "nbformat": 4,
 "nbformat_minor": 2
}
