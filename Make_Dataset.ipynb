{
 "cells": [
  {
   "cell_type": "markdown",
   "metadata": {},
   "source": [
    "# Make up test DataFrame\n",
    "This is to make up a demo data set"
   ]
  },
  {
   "cell_type": "code",
   "execution_count": 13,
   "metadata": {
    "collapsed": true
   },
   "outputs": [],
   "source": [
    "import pandas as pd\n",
    "from itertools import permutations\n",
    "from random import randint, shuffle"
   ]
  },
  {
   "cell_type": "code",
   "execution_count": 20,
   "metadata": {
    "collapsed": false
   },
   "outputs": [],
   "source": [
    "attrs = dict()\n",
    "for i in range(1,6):\n",
    "    tmp_list = list()\n",
    "    for c in range(100,107):\n",
    "        tmp_list.append('Attr{}_{}'.format(i, chr(c).upper()))\n",
    "    attrs['Attr{}'.format(i)] = tmp_list\n",
    "groups = ['Group1','Group2','Group3']"
   ]
  },
  {
   "cell_type": "code",
   "execution_count": 85,
   "metadata": {
    "collapsed": false
   },
   "outputs": [],
   "source": [
    "doube_array = list()\n",
    "for i in range(20000):\n",
    "    tmp = list()\n",
    "    idx1 = randint(0,2)\n",
    "    tmp.append(groups[idx1])\n",
    "    for attr in attrs:\n",
    "        idx2 = randint(0,6)\n",
    "        tmp.append(attrs[attr][idx2])\n",
    "    \n",
    "    doube_array.append(tmp)"
   ]
  },
  {
   "cell_type": "code",
   "execution_count": 87,
   "metadata": {
    "collapsed": false
   },
   "outputs": [],
   "source": [
    "df = pd.DataFrame(doube_array, columns=['Group'] + list(attrs.keys()))"
   ]
  },
  {
   "cell_type": "code",
   "execution_count": 89,
   "metadata": {
    "collapsed": true
   },
   "outputs": [],
   "source": [
    "# read this from the Dash app\n",
    "df.to_hdf('data.h5','data')"
   ]
  }
 ],
 "metadata": {
  "kernelspec": {
   "display_name": "Python 3.6 Data",
   "language": "python",
   "name": "py36data"
  },
  "language_info": {
   "codemirror_mode": {
    "name": "ipython",
    "version": 3
   },
   "file_extension": ".py",
   "mimetype": "text/x-python",
   "name": "python",
   "nbconvert_exporter": "python",
   "pygments_lexer": "ipython3",
   "version": "3.6.0"
  }
 },
 "nbformat": 4,
 "nbformat_minor": 2
}
