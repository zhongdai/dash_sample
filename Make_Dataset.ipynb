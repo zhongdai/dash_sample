{
 "cells": [
  {
   "cell_type": "markdown",
   "metadata": {},
   "source": [
    "# Make up test DataFrame\n",
    "This is to make up a demo data set"
   ]
  },
  {
   "cell_type": "code",
   "execution_count": 90,
   "metadata": {
    "collapsed": true
   },
   "outputs": [],
   "source": [
    "import pandas as pd\n",
    "from itertools import permutations\n",
    "from random import randint, shuffle"
   ]
  },
  {
   "cell_type": "code",
   "execution_count": 96,
   "metadata": {
    "collapsed": true
   },
   "outputs": [],
   "source": [
    "data = {\n",
    "    'Gender':['Male','Female','Unknown'],\n",
    "    'Age':['18-30','31-40','41-50','51-60','61-70','Above 70'],\n",
    "    'State':['NSW','VIC','ACT','TAS','QLD','WA','SA','NT'],\n",
    "    'Tenure':['< 3 Yrs','3 - 5 Yrs','6 - 12 Yrs','> 13 Yrs'],\n",
    "    'Brand':['Westpac','St. George','RAMS','BSA','BOM'],\n",
    "    'Centre':['Business','Consumer','WIP','BT Finance']\n",
    "}\n",
    "groups = ['Base','Cards','Mortgage','Business']"
   ]
  },
  {
   "cell_type": "code",
   "execution_count": 98,
   "metadata": {
    "collapsed": false
   },
   "outputs": [],
   "source": [
    "columns = ['Group'] + list(data.keys())"
   ]
  },
  {
   "cell_type": "code",
   "execution_count": 99,
   "metadata": {
    "collapsed": false
   },
   "outputs": [
    {
     "data": {
      "text/plain": [
       "['Group', 'Gender', 'Age', 'State', 'Tenure', 'Brand', 'Centre']"
      ]
     },
     "execution_count": 99,
     "metadata": {},
     "output_type": "execute_result"
    }
   ],
   "source": [
    "columns"
   ]
  },
  {
   "cell_type": "code",
   "execution_count": 113,
   "metadata": {
    "collapsed": false
   },
   "outputs": [],
   "source": [
    "# random generate 200k records\n",
    "doube_array = list()\n",
    "for i in range(150000):\n",
    "    tmp = list()\n",
    "    group_idx = randint(0,3)\n",
    "    tmp.append(groups[group_idx])\n",
    "    for attr in data.keys():\n",
    "        idx2 = randint(0,len(data[attr])-1)  \n",
    "        tmp.append(data[attr][idx2])\n",
    "    doube_array.append(tmp)\n",
    "    \n",
    "# genearte another 50k inbalamce\n",
    "for i in range(50000):\n",
    "    tmp = list()\n",
    "    group_idx = randint(0,3)\n",
    "    tmp.append(groups[group_idx])\n",
    "    for attr in data.keys():\n",
    "        idx2 = randint(0,len(data[attr])-2)  \n",
    "        tmp.append(data[attr][idx2])\n",
    "    doube_array.append(tmp)"
   ]
  },
  {
   "cell_type": "code",
   "execution_count": 114,
   "metadata": {
    "collapsed": false
   },
   "outputs": [],
   "source": [
    "df = pd.DataFrame(doube_array, columns=columns)"
   ]
  },
  {
   "cell_type": "code",
   "execution_count": 115,
   "metadata": {
    "collapsed": false
   },
   "outputs": [
    {
     "data": {
      "text/html": [
       "<div>\n",
       "<style scoped>\n",
       "    .dataframe tbody tr th:only-of-type {\n",
       "        vertical-align: middle;\n",
       "    }\n",
       "\n",
       "    .dataframe tbody tr th {\n",
       "        vertical-align: top;\n",
       "    }\n",
       "\n",
       "    .dataframe thead th {\n",
       "        text-align: right;\n",
       "    }\n",
       "</style>\n",
       "<table border=\"1\" class=\"dataframe\">\n",
       "  <thead>\n",
       "    <tr style=\"text-align: right;\">\n",
       "      <th></th>\n",
       "      <th>Group</th>\n",
       "      <th>Gender</th>\n",
       "      <th>Age</th>\n",
       "      <th>State</th>\n",
       "      <th>Tenure</th>\n",
       "      <th>Brand</th>\n",
       "      <th>Centre</th>\n",
       "    </tr>\n",
       "  </thead>\n",
       "  <tbody>\n",
       "    <tr>\n",
       "      <th>0</th>\n",
       "      <td>Mortgage</td>\n",
       "      <td>Unknown</td>\n",
       "      <td>41-50</td>\n",
       "      <td>NT</td>\n",
       "      <td>&lt; 3 Yrs</td>\n",
       "      <td>BOM</td>\n",
       "      <td>BT Finance</td>\n",
       "    </tr>\n",
       "    <tr>\n",
       "      <th>1</th>\n",
       "      <td>Cards</td>\n",
       "      <td>Female</td>\n",
       "      <td>41-50</td>\n",
       "      <td>QLD</td>\n",
       "      <td>&lt; 3 Yrs</td>\n",
       "      <td>BSA</td>\n",
       "      <td>WIP</td>\n",
       "    </tr>\n",
       "    <tr>\n",
       "      <th>2</th>\n",
       "      <td>Business</td>\n",
       "      <td>Female</td>\n",
       "      <td>18-30</td>\n",
       "      <td>QLD</td>\n",
       "      <td>&lt; 3 Yrs</td>\n",
       "      <td>BOM</td>\n",
       "      <td>WIP</td>\n",
       "    </tr>\n",
       "    <tr>\n",
       "      <th>3</th>\n",
       "      <td>Mortgage</td>\n",
       "      <td>Female</td>\n",
       "      <td>31-40</td>\n",
       "      <td>NT</td>\n",
       "      <td>&lt; 3 Yrs</td>\n",
       "      <td>Westpac</td>\n",
       "      <td>WIP</td>\n",
       "    </tr>\n",
       "    <tr>\n",
       "      <th>4</th>\n",
       "      <td>Business</td>\n",
       "      <td>Male</td>\n",
       "      <td>41-50</td>\n",
       "      <td>VIC</td>\n",
       "      <td>&gt; 13 Yrs</td>\n",
       "      <td>BOM</td>\n",
       "      <td>Consumer</td>\n",
       "    </tr>\n",
       "  </tbody>\n",
       "</table>\n",
       "</div>"
      ],
      "text/plain": [
       "      Group   Gender    Age State    Tenure    Brand      Centre\n",
       "0  Mortgage  Unknown  41-50    NT   < 3 Yrs      BOM  BT Finance\n",
       "1     Cards   Female  41-50   QLD   < 3 Yrs      BSA         WIP\n",
       "2  Business   Female  18-30   QLD   < 3 Yrs      BOM         WIP\n",
       "3  Mortgage   Female  31-40    NT   < 3 Yrs  Westpac         WIP\n",
       "4  Business     Male  41-50   VIC  > 13 Yrs      BOM    Consumer"
      ]
     },
     "execution_count": 115,
     "metadata": {},
     "output_type": "execute_result"
    }
   ],
   "source": [
    "df.head()"
   ]
  },
  {
   "cell_type": "code",
   "execution_count": 116,
   "metadata": {
    "collapsed": true
   },
   "outputs": [],
   "source": [
    "# read this from the Dash app\n",
    "df.to_hdf('data.h5','data')"
   ]
  }
 ],
 "metadata": {
  "kernelspec": {
   "display_name": "Python 3.6 Data",
   "language": "python",
   "name": "py36data"
  },
  "language_info": {
   "codemirror_mode": {
    "name": "ipython",
    "version": 3
   },
   "file_extension": ".py",
   "mimetype": "text/x-python",
   "name": "python",
   "nbconvert_exporter": "python",
   "pygments_lexer": "ipython3",
   "version": "3.6.0"
  }
 },
 "nbformat": 4,
 "nbformat_minor": 2
}
